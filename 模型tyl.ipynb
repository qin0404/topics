{
 "cells": [
  {
   "cell_type": "markdown",
   "metadata": {},
   "source": [
    "# 新版模型"
   ]
  },
  {
   "cell_type": "code",
   "execution_count": 5,
   "metadata": {},
   "outputs": [],
   "source": [
    "\n",
    "import pandas as pd\n",
    "import numpy as np\n",
    "import pulp\n",
    "import time\n",
    "from datetime import datetime\n",
    "import matplotlib.pyplot as plt"
   ]
  },
  {
   "cell_type": "markdown",
   "metadata": {},
   "source": [
    "## Model setting"
   ]
  },
  {
   "cell_type": "code",
   "execution_count": 2,
   "metadata": {},
   "outputs": [
    {
     "name": "stdout",
     "output_type": "stream",
     "text": [
      "load c:\\Users\\24081\\AppData\\Local\\Programs\\Python\\Python310\\lib\\site-packages\\ortools\\.libs\\zlib1.dll...\n",
      "load c:\\Users\\24081\\AppData\\Local\\Programs\\Python\\Python310\\lib\\site-packages\\ortools\\.libs\\abseil_dll.dll...\n",
      "load c:\\Users\\24081\\AppData\\Local\\Programs\\Python\\Python310\\lib\\site-packages\\ortools\\.libs\\utf8_validity.dll...\n",
      "load c:\\Users\\24081\\AppData\\Local\\Programs\\Python\\Python310\\lib\\site-packages\\ortools\\.libs\\re2.dll...\n",
      "load c:\\Users\\24081\\AppData\\Local\\Programs\\Python\\Python310\\lib\\site-packages\\ortools\\.libs\\libprotobuf.dll...\n",
      "load c:\\Users\\24081\\AppData\\Local\\Programs\\Python\\Python310\\lib\\site-packages\\ortools\\.libs\\highs.dll...\n",
      "load c:\\Users\\24081\\AppData\\Local\\Programs\\Python\\Python310\\lib\\site-packages\\ortools\\.libs\\ortools.dll...\n"
     ]
    }
   ],
   "source": [
    "from ortools.sat.python import cp_model\n",
    "\n",
    "model = cp_model.CpModel()\n"
   ]
  },
  {
   "cell_type": "code",
   "execution_count": 6,
   "metadata": {},
   "outputs": [
    {
     "ename": "NameError",
     "evalue": "name 'I' is not defined",
     "output_type": "error",
     "traceback": [
      "\u001b[1;31m---------------------------------------------------------------------------\u001b[0m",
      "\u001b[1;31mNameError\u001b[0m                                 Traceback (most recent call last)",
      "Cell \u001b[1;32mIn[6], line 4\u001b[0m\n\u001b[0;32m      1\u001b[0m \u001b[38;5;66;03m# Decision Variables\u001b[39;00m\n\u001b[0;32m      3\u001b[0m X \u001b[38;5;241m=\u001b[39m {}  \u001b[38;5;66;03m# X[i, j, k, t] = 1 表示课程 i 在第 j 周时间 t 被安排在教室 k\u001b[39;00m\n\u001b[1;32m----> 4\u001b[0m \u001b[38;5;28;01mfor\u001b[39;00m i \u001b[38;5;129;01min\u001b[39;00m \u001b[43mI\u001b[49m:      \u001b[38;5;66;03m# 遍历所有课程\u001b[39;00m\n\u001b[0;32m      5\u001b[0m     \u001b[38;5;28;01mfor\u001b[39;00m j \u001b[38;5;129;01min\u001b[39;00m J:  \u001b[38;5;66;03m# 遍历所有周\u001b[39;00m\n\u001b[0;32m      6\u001b[0m         \u001b[38;5;28;01mfor\u001b[39;00m k \u001b[38;5;129;01min\u001b[39;00m K:  \u001b[38;5;66;03m# 遍历所有教室\u001b[39;00m\n",
      "\u001b[1;31mNameError\u001b[0m: name 'I' is not defined"
     ]
    }
   ],
   "source": [
    "# Decision Variables\n",
    "\n",
    "X = {}  # X[i, j, k, t] = 1 表示课程 i 在第 j 周时间 t 被安排在教室 k\n",
    "for i in I:      # 遍历所有课程\n",
    "    for j in J:  # 遍历所有周\n",
    "        for k in K:  # 遍历所有教室\n",
    "            for t in T:  # 遍历所有时间段\n",
    "                X[i, j, k, t] = model.NewBoolVar(f'X_{i}_{j}_{k}_{t}')\n"
   ]
  },
  {
   "cell_type": "code",
   "execution_count": null,
   "metadata": {},
   "outputs": [],
   "source": [
    "# Constraints1：同一时间、同一教室只能安排一门课\n",
    "for j in J:\n",
    "    for k in K:\n",
    "        for t in T:\n",
    "            model.Add(sum(X[i, j, k, t] for i in I) <= 1)\n"
   ]
  },
  {
   "cell_type": "code",
   "execution_count": null,
   "metadata": {},
   "outputs": [],
   "source": [
    "# Constraints2：每门课程不能安排到多个教室\n",
    "for i in I:\n",
    "    for j in J:\n",
    "        for t in T:\n",
    "            model.Add(sum(X[i, j, k, t] for k in K) <= 1)\n"
   ]
  },
  {
   "cell_type": "code",
   "execution_count": null,
   "metadata": {},
   "outputs": [],
   "source": [
    "# Constraints3：课程人数不能超过教室容量\n",
    "for i in I:\n",
    "    for j in J:\n",
    "        for k in K:\n",
    "            for t in T:\n",
    "                model.Add(X[i, j, k, t] * E[i] <= S[k])\n",
    "                # E[i] is the number of students enrolled in course i.\n",
    "                # S[k] is the maximum capacity of classroom k.\n"
   ]
  },
  {
   "cell_type": "code",
   "execution_count": null,
   "metadata": {},
   "outputs": [],
   "source": [
    "# Objective Function\n",
    "# Minimize violations of soft constraints.\n",
    "\n",
    "v1 = model.NewIntVar(0, 10000, \"room_utilization_violation\")  # 教室利用率惩罚\n",
    "v2 = model.NewIntVar(0, 10000, \"student_conflict_violation\")  # 学生冲突惩罚\n",
    "v3 = model.NewIntVar(0, 10000, \"schedule_variance_violation\")  # 课程时间分布不均衡惩罚"
   ]
  },
  {
   "cell_type": "code",
   "execution_count": null,
   "metadata": {},
   "outputs": [],
   "source": [
    "# Soft Constraints\n",
    "\n",
    "# Calculate waste in classroom use\n",
    "model.Add(v1 == sum((1 - (E[i] / S[k])) * X[i, j, k, t] for i in I for j in J for k in K for t in T))\n",
    "\n",
    "\n",
    "\n",
    "# The number of times a student takes multiple classes at the same time\n",
    "model.Add(v2 == sum((sum(X[i, j, k, t] * Y[s, i] for i in I) > 1) for s in S for j in J for k in K for t in T))\n",
    "                                    # Y[s, i] Whether student s takes the course i (0/1)\n",
    "\n",
    "\n",
    "#  Calculate whether the course schedule is evenly spaced\n",
    "average_schedule = sum(X[i, j, k, t] for i in I for j in J for k in K for t in T) / (37 * 5 * 18)\n",
    "model.Add(v3 == sum((sum(X[i, j, k, t] for i in I for k in K for t in T) - average_schedule) ** 2 for j in J))\n"
   ]
  },
  {
   "cell_type": "code",
   "execution_count": null,
   "metadata": {},
   "outputs": [],
   "source": [
    "\n",
    "w1, w2, w3 = 1, 1, 1  # soft constraint weights\n",
    "model.Minimize(w1 * v1 + w2 * v2 + w3 * v3)\n"
   ]
  }
 ],
 "metadata": {
  "kernelspec": {
   "display_name": "Python 3",
   "language": "python",
   "name": "python3"
  },
  "language_info": {
   "codemirror_mode": {
    "name": "ipython",
    "version": 3
   },
   "file_extension": ".py",
   "mimetype": "text/x-python",
   "name": "python",
   "nbconvert_exporter": "python",
   "pygments_lexer": "ipython3",
   "version": "3.10.10"
  }
 },
 "nbformat": 4,
 "nbformat_minor": 2
}
